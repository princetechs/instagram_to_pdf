{
 "cells": [
  {
   "cell_type": "code",
   "execution_count": 1,
   "id": "a8d2b799-052d-4230-8829-59a444c49011",
   "metadata": {},
   "outputs": [
    {
     "name": "stdout",
     "output_type": "stream",
     "text": [
      "Requirement already satisfied: instaloader in /opt/homebrew/Cellar/jupyterlab/4.0.5_1/libexec/lib/python3.11/site-packages (4.10)\n",
      "Requirement already satisfied: requests>=2.4 in /opt/homebrew/Cellar/jupyterlab/4.0.5_1/libexec/lib/python3.11/site-packages (from instaloader) (2.31.0)\n",
      "Requirement already satisfied: charset-normalizer<4,>=2 in /opt/homebrew/Cellar/jupyterlab/4.0.5_1/libexec/lib/python3.11/site-packages (from requests>=2.4->instaloader) (3.2.0)\n",
      "Requirement already satisfied: idna<4,>=2.5 in /opt/homebrew/Cellar/jupyterlab/4.0.5_1/libexec/lib/python3.11/site-packages (from requests>=2.4->instaloader) (3.4)\n",
      "Requirement already satisfied: urllib3<3,>=1.21.1 in /opt/homebrew/Cellar/jupyterlab/4.0.5_1/libexec/lib/python3.11/site-packages (from requests>=2.4->instaloader) (1.26.16)\n",
      "Requirement already satisfied: certifi>=2017.4.17 in /opt/homebrew/opt/python-certifi/lib/python3.11/site-packages (from requests>=2.4->instaloader) (2023.7.22)\n",
      "Note: you may need to restart the kernel to use updated packages.\n"
     ]
    }
   ],
   "source": [
    "pip install instaloader"
   ]
  },
  {
   "cell_type": "code",
   "execution_count": 2,
   "id": "e78586ff-a7c7-4c76-a871-721661288650",
   "metadata": {},
   "outputs": [
    {
     "name": "stdout",
     "output_type": "stream",
     "text": [
      "Requirement already satisfied: reportlab in /opt/homebrew/Cellar/jupyterlab/4.0.5_1/libexec/lib/python3.11/site-packages (4.0.4)\n",
      "Requirement already satisfied: pillow>=9.0.0 in /opt/homebrew/Cellar/jupyterlab/4.0.5_1/libexec/lib/python3.11/site-packages (from reportlab) (10.0.0)\n",
      "Note: you may need to restart the kernel to use updated packages.\n"
     ]
    }
   ],
   "source": [
    "pip install reportlab"
   ]
  },
  {
   "cell_type": "code",
   "execution_count": 3,
   "id": "8e5e3d29-46a8-4ee4-ac5b-9ed51ceab924",
   "metadata": {},
   "outputs": [
    {
     "name": "stdout",
     "output_type": "stream",
     "text": [
      "Requirement already satisfied: ipywidgets in /opt/homebrew/Cellar/jupyterlab/4.0.5_1/libexec/lib/python3.11/site-packages (8.1.1)\n",
      "Requirement already satisfied: comm>=0.1.3 in /opt/homebrew/Cellar/jupyterlab/4.0.5_1/libexec/lib/python3.11/site-packages (from ipywidgets) (0.1.4)\n",
      "Requirement already satisfied: ipython>=6.1.0 in /opt/homebrew/opt/ipython/libexec/lib/python3.11/site-packages (from ipywidgets) (8.15.0)\n",
      "Requirement already satisfied: traitlets>=4.3.1 in /opt/homebrew/opt/ipython/libexec/lib/python3.11/site-packages (from ipywidgets) (5.9.0)\n",
      "Requirement already satisfied: widgetsnbextension~=4.0.9 in /opt/homebrew/Cellar/jupyterlab/4.0.5_1/libexec/lib/python3.11/site-packages (from ipywidgets) (4.0.9)\n",
      "Requirement already satisfied: jupyterlab-widgets~=3.0.9 in /opt/homebrew/Cellar/jupyterlab/4.0.5_1/libexec/lib/python3.11/site-packages (from ipywidgets) (3.0.9)\n",
      "Requirement already satisfied: backcall in /opt/homebrew/opt/ipython/libexec/lib/python3.11/site-packages (from ipython>=6.1.0->ipywidgets) (0.2.0)\n",
      "Requirement already satisfied: decorator in /opt/homebrew/opt/ipython/libexec/lib/python3.11/site-packages (from ipython>=6.1.0->ipywidgets) (5.1.1)\n",
      "Requirement already satisfied: jedi>=0.16 in /opt/homebrew/opt/ipython/libexec/lib/python3.11/site-packages (from ipython>=6.1.0->ipywidgets) (0.19.0)\n",
      "Requirement already satisfied: matplotlib-inline in /opt/homebrew/opt/ipython/libexec/lib/python3.11/site-packages (from ipython>=6.1.0->ipywidgets) (0.1.6)\n",
      "Requirement already satisfied: pickleshare in /opt/homebrew/opt/ipython/libexec/lib/python3.11/site-packages (from ipython>=6.1.0->ipywidgets) (0.7.5)\n",
      "Requirement already satisfied: prompt-toolkit!=3.0.37,<3.1.0,>=3.0.30 in /opt/homebrew/opt/ipython/libexec/lib/python3.11/site-packages (from ipython>=6.1.0->ipywidgets) (3.0.39)\n",
      "Requirement already satisfied: pygments>=2.4.0 in /opt/homebrew/opt/pygments/lib/python3.11/site-packages (from ipython>=6.1.0->ipywidgets) (2.16.1)\n",
      "Requirement already satisfied: stack-data in /opt/homebrew/opt/ipython/libexec/lib/python3.11/site-packages (from ipython>=6.1.0->ipywidgets) (0.6.2)\n",
      "Requirement already satisfied: pexpect>4.3 in /opt/homebrew/opt/ipython/libexec/lib/python3.11/site-packages (from ipython>=6.1.0->ipywidgets) (4.8.0)\n",
      "Requirement already satisfied: appnope in /opt/homebrew/opt/ipython/libexec/lib/python3.11/site-packages (from ipython>=6.1.0->ipywidgets) (0.1.3)\n",
      "Requirement already satisfied: parso<0.9.0,>=0.8.3 in /opt/homebrew/opt/ipython/libexec/lib/python3.11/site-packages (from jedi>=0.16->ipython>=6.1.0->ipywidgets) (0.8.3)\n",
      "Requirement already satisfied: ptyprocess>=0.5 in /opt/homebrew/opt/ipython/libexec/lib/python3.11/site-packages (from pexpect>4.3->ipython>=6.1.0->ipywidgets) (0.7.0)\n",
      "Requirement already satisfied: wcwidth in /opt/homebrew/opt/ipython/libexec/lib/python3.11/site-packages (from prompt-toolkit!=3.0.37,<3.1.0,>=3.0.30->ipython>=6.1.0->ipywidgets) (0.2.6)\n",
      "Requirement already satisfied: executing>=1.2.0 in /opt/homebrew/opt/ipython/libexec/lib/python3.11/site-packages (from stack-data->ipython>=6.1.0->ipywidgets) (1.2.0)\n",
      "Requirement already satisfied: asttokens>=2.1.0 in /opt/homebrew/opt/ipython/libexec/lib/python3.11/site-packages (from stack-data->ipython>=6.1.0->ipywidgets) (2.2.1)\n",
      "Requirement already satisfied: pure-eval in /opt/homebrew/opt/ipython/libexec/lib/python3.11/site-packages (from stack-data->ipython>=6.1.0->ipywidgets) (0.2.2)\n",
      "Requirement already satisfied: six in /opt/homebrew/opt/six/lib/python3.11/site-packages (from asttokens>=2.1.0->stack-data->ipython>=6.1.0->ipywidgets) (1.16.0)\n",
      "Note: you may need to restart the kernel to use updated packages.\n"
     ]
    }
   ],
   "source": [
    "pip install ipywidgets"
   ]
  },
  {
   "cell_type": "code",
   "execution_count": 4,
   "id": "6f1cf67d-50b5-4958-8e25-42ec794fe523",
   "metadata": {},
   "outputs": [
    {
     "name": "stdout",
     "output_type": "stream",
     "text": [
      "Requirement already satisfied: clipboard in /opt/homebrew/Cellar/jupyterlab/4.0.5_1/libexec/lib/python3.11/site-packages (0.0.4)\n",
      "Requirement already satisfied: pyperclip>=1.3 in /opt/homebrew/Cellar/jupyterlab/4.0.5_1/libexec/lib/python3.11/site-packages (from clipboard) (1.8.2)\n",
      "Note: you may need to restart the kernel to use updated packages.\n"
     ]
    }
   ],
   "source": [
    "pip install clipboard"
   ]
  },
  {
   "cell_type": "code",
   "execution_count": 10,
   "id": "f65996f2-20b6-4c10-982b-9f8dfc3337ac",
   "metadata": {
    "editable": true,
    "slideshow": {
     "slide_type": ""
    },
    "tags": []
   },
   "outputs": [
    {
     "name": "stdin",
     "output_type": "stream",
     "text": [
      "Enter Instagram post URL:  https://www.instagram.com/p/Cw4NriJr5hs/?utm_source=ig_web_copy_link&igshid=MzRlODBiNWFlZA==\n"
     ]
    },
    {
     "name": "stdout",
     "output_type": "stream",
     "text": [
      "PDF 'Must Know .pdf' created successfully with media.\n"
     ]
    },
    {
     "data": {
      "text/html": [
       "<a href=\"Must Know .pdf\" download><button>Download PDF</button></a>"
      ],
      "text/plain": [
       "<IPython.core.display.HTML object>"
      ]
     },
     "metadata": {},
     "output_type": "display_data"
    },
    {
     "data": {
      "application/vnd.jupyter.widget-view+json": {
       "model_id": "bd98070cdb744910bc5f38016adbc20a",
       "version_major": 2,
       "version_minor": 0
      },
      "text/plain": [
       "Button(description='Copy Description', style=ButtonStyle())"
      ]
     },
     "metadata": {},
     "output_type": "display_data"
    },
    {
     "data": {
      "application/vnd.jupyter.widget-view+json": {
       "model_id": "30c512ba60e04d0bb22888da78fb787f",
       "version_major": 2,
       "version_minor": 0
      },
      "text/plain": [
       "Textarea(value='Must Know Basic Cmd commands! \"Windows\"\\n.\\n\\nFollow @codes.manish for more ...\\n.\\n\\n.\\n\\nFor…"
      ]
     },
     "metadata": {},
     "output_type": "display_data"
    }
   ],
   "source": [
    "import instaloader\n",
    "import ipywidgets as widgets\n",
    "from reportlab.lib.pagesizes import letter\n",
    "from reportlab.lib.utils import ImageReader\n",
    "from reportlab.pdfgen import canvas\n",
    "import clipboard\n",
    "from IPython.display import display, HTML\n",
    "\n",
    "def get_media(post):\n",
    "    try:\n",
    "        media = []\n",
    "        for item in post.get_sidecar_nodes():\n",
    "            if item.is_video:\n",
    "                media.append((\"video\", item.video_url))\n",
    "            else:\n",
    "                media.append((\"image\", item.display_url))\n",
    "        return media\n",
    "    except instaloader.exceptions.NotFoundException:\n",
    "        return []\n",
    "\n",
    "def create_pdf(media_list, pdf_file_name):\n",
    "    c = canvas.Canvas(pdf_file_name, pagesize=letter)\n",
    "    page_width, page_height = letter\n",
    "    margin = 50\n",
    "    image_width = page_width - 2 * margin\n",
    "    image_height = page_height - 2 * margin\n",
    "\n",
    "    if len(media_list) == 1 and media_list[0][0] == \"image\":\n",
    "        # Handle single image case\n",
    "        media_type, media_url = media_list[0]\n",
    "        img = ImageReader(media_url)\n",
    "        c.drawImage(img, margin, margin, width=image_width, height=image_height)\n",
    "    else:\n",
    "        # Handle carousel or multiple media items\n",
    "        for media_type, media_url in media_list:\n",
    "            if media_type == \"image\":\n",
    "                img = ImageReader(media_url)\n",
    "                c.drawImage(img, margin, margin, width=image_width, height=image_height)\n",
    "            elif media_type == \"video\":\n",
    "                # Handle video (e.g., download and embed it)\n",
    "                # You would need to use a different library for video processing\n",
    "                pass\n",
    "            c.showPage()\n",
    "\n",
    "    c.save()\n",
    "\n",
    "if __name__ == \"__main__\":\n",
    "    post_url = input(\"Enter Instagram post URL: \")\n",
    "    L = instaloader.Instaloader()\n",
    "    \n",
    "    try:\n",
    "        post = instaloader.Post.from_shortcode(L.context, post_url.split(\"/\")[-2])\n",
    "        media_list = get_media(post)\n",
    "        \n",
    "        if media_list:\n",
    "            insta_description = post.caption\n",
    "            insta_user_name = post.owner_profile.username\n",
    "            file_description = f\"{insta_description}\\ncredits:- @{insta_user_name}\"\n",
    "            pdf_file_name = f\"{insta_description[:10]}.pdf\"\n",
    "            \n",
    "            create_pdf(media_list, pdf_file_name)\n",
    "            print(f\"PDF '{pdf_file_name}' created successfully with media.\")\n",
    "            \n",
    "            # Create a \"Copy\" button for the description\n",
    "            copy_button = widgets.Button(description=\"Copy Description\")\n",
    "            output_text = widgets.Textarea(value=file_description)\n",
    "            download_link = f'<a href=\"{pdf_file_name}\" download><button>Download PDF</button></a>'\n",
    "            display(HTML(download_link))\n",
    "            \n",
    "            def copy_to_clipboard(b):\n",
    "                text_to_copy = output_text.value\n",
    "                clipboard.copy(text_to_copy)\n",
    "                print(\"Description copied to clipboard:\", text_to_copy)\n",
    "            \n",
    "            copy_button.on_click(copy_to_clipboard)\n",
    "            \n",
    "            # Display the \"Copy\" button and text area\n",
    "            display(copy_button)\n",
    "            display(output_text)\n",
    "        else:\n",
    "            print(\"Media not found for the post.\")\n",
    "    except Exception as e:\n",
    "        print(f\"An error occurred: {str(e)}\")\n"
   ]
  }
 ],
 "metadata": {
  "kernelspec": {
   "display_name": "Python 3 (ipykernel)",
   "language": "python",
   "name": "python3"
  },
  "language_info": {
   "codemirror_mode": {
    "name": "ipython",
    "version": 3
   },
   "file_extension": ".py",
   "mimetype": "text/x-python",
   "name": "python",
   "nbconvert_exporter": "python",
   "pygments_lexer": "ipython3",
   "version": "3.11.5"
  }
 },
 "nbformat": 4,
 "nbformat_minor": 5
}
